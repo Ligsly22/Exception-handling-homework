{
 "cells": [
  {
   "cell_type": "code",
   "execution_count": 2,
   "id": "7fffa2d7-74c6-4dab-ac86-4c13a47d8669",
   "metadata": {},
   "outputs": [
    {
     "name": "stdout",
     "output_type": "stream",
     "text": [
      "Can't complete code with two different types\n"
     ]
    }
   ],
   "source": [
    "#Problem 1\n",
    "# Handle the exception thrown by the code below by using try and except blocks.\n",
    "try:\n",
    "    for i in ['a','b','c']:\n",
    "        print(i**2)\n",
    "except:\n",
    "    print(\"Can't complete code with two different types\")"
   ]
  },
  {
   "cell_type": "code",
   "execution_count": 20,
   "id": "6ac9f790-6cbd-40b4-8c57-2efc8aee47e9",
   "metadata": {},
   "outputs": [
    {
     "name": "stdout",
     "output_type": "stream",
     "text": [
      "You can't divide by zero. Try again\n",
      "All done\n"
     ]
    }
   ],
   "source": [
    "#Problem 2\n",
    "# Handle the exception thrown by the code below by using try and except blocks. Then use a finally block to print 'All Done.'\n",
    "try:\n",
    "    x = 5\n",
    "    y = 0\n",
    "\n",
    "    z = x/y\n",
    "except:\n",
    "    print(\"You can't divide by zero. Try again\")\n",
    "finally:\n",
    "    print('All done')"
   ]
  },
  {
   "cell_type": "code",
   "execution_count": 18,
   "id": "ecd13744-84e3-4a64-94bb-4e286ed37b22",
   "metadata": {},
   "outputs": [],
   "source": [
    "#Problem 3\n",
    "# Write a function that asks for an integer and prints the square of it. Use a while loop with a try, except, else block to account for incorrect inputs.\n",
    "\n",
    "def ask():\n",
    "    while True:\n",
    "        try:\n",
    "            choice = int(input('Pick a number for the square root: '))\n",
    "        except:\n",
    "            print(\"I said a number! Don't be a silly goose\")\n",
    "            continue\n",
    "        else:\n",
    "            print('Great job, youre smarter than a 5th grader!')\n",
    "            break\n",
    "    result = choice ** 2\n",
    "    print(f\"Thank you, you're number squared is {result}\")\n"
   ]
  },
  {
   "cell_type": "code",
   "execution_count": 19,
   "id": "05729dff-374e-4aef-b65f-50959bfaaeb2",
   "metadata": {},
   "outputs": [
    {
     "name": "stdin",
     "output_type": "stream",
     "text": [
      "Pick a number for the square root:  r\n"
     ]
    },
    {
     "name": "stdout",
     "output_type": "stream",
     "text": [
      "I said a number! Don't be a silly goose\n"
     ]
    },
    {
     "name": "stdin",
     "output_type": "stream",
     "text": [
      "Pick a number to square:  9\n"
     ]
    },
    {
     "name": "stdout",
     "output_type": "stream",
     "text": [
      "Great job, youre smarter than a 5th grader!\n",
      "Thank you, you're number squared is 81\n"
     ]
    }
   ],
   "source": [
    "ask()"
   ]
  },
  {
   "cell_type": "code",
   "execution_count": null,
   "id": "bd48c127-d41a-450d-91fb-5fc38de8d517",
   "metadata": {},
   "outputs": [],
   "source": []
  }
 ],
 "metadata": {
  "kernelspec": {
   "display_name": "Python [conda env:base] *",
   "language": "python",
   "name": "conda-base-py"
  },
  "language_info": {
   "codemirror_mode": {
    "name": "ipython",
    "version": 3
   },
   "file_extension": ".py",
   "mimetype": "text/x-python",
   "name": "python",
   "nbconvert_exporter": "python",
   "pygments_lexer": "ipython3",
   "version": "3.11.7"
  }
 },
 "nbformat": 4,
 "nbformat_minor": 5
}
